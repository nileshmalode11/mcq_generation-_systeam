{
  "nbformat": 4,
  "nbformat_minor": 0,
  "metadata": {
    "colab": {
      "provenance": [],
      "gpuType": "T4",
      "include_colab_link": true
    },
    "kernelspec": {
      "name": "python3",
      "display_name": "Python 3"
    },
    "language_info": {
      "name": "python"
    },
    "accelerator": "GPU"
  },
  "cells": [
    {
      "cell_type": "markdown",
      "metadata": {
        "id": "view-in-github",
        "colab_type": "text"
      },
      "source": [
        "<a href=\"https://colab.research.google.com/github/nileshmalode11/mcq_generation-_systeam/blob/main/MCQS_question_generation_system.ipynb\" target=\"_parent\"><img src=\"https://colab.research.google.com/assets/colab-badge.svg\" alt=\"Open In Colab\"/></a>"
      ]
    },
    {
      "cell_type": "markdown",
      "source": [
        "## **# Installing Necessary Packages -**"
      ],
      "metadata": {
        "id": "2JtJ6oSrnFKo"
      }
    },
    {
      "cell_type": "code",
      "execution_count": null,
      "metadata": {
        "colab": {
          "base_uri": "https://localhost:8080/",
          "height": 70
        },
        "id": "AKR0cq1giBFg",
        "outputId": "234fa891-7ff1-42b4-fcfb-7e79292e2311"
      },
      "outputs": [
        {
          "output_type": "execute_result",
          "data": {
            "text/plain": [
              "'\\n!pip install gensim\\n!pip install git+https://github.com/boudinfl/pke.git\\n!python -m spacy download en\\n!pip install bert-extractive-summarizer --upgrade --force-reinstall\\n!pip install spacy==2.1.3 --upgrade --force-reinstall\\n!pip install -U nltk\\n!pip install -U pywsd\\n!pip install flashtext\\n! pip install pywsd'"
            ],
            "application/vnd.google.colaboratory.intrinsic+json": {
              "type": "string"
            }
          },
          "metadata": {},
          "execution_count": 10
        }
      ],
      "source": [
        "#Installed Packages-\n",
        "\n",
        "!pip install gensim\n",
        "!pip install git+https://github.com/boudinfl/pke.git\n",
        "!python -m spacy download en\n",
        "!pip install bert-extractive-summarizer --upgrade --force-reinstall\n",
        "!pip install spacy==2.1.3 --upgrade --force-reinstall\n",
        "!pip install -U nltk\n",
        "!pip install -U pywsd\n",
        "!pip install flashtext\n",
        "! pip install pywsd\n"
      ]
    },
    {
      "cell_type": "code",
      "source": [
        "# Importing nltk-\n",
        "\n",
        "import nltk\n",
        "nltk.download('stopwords')\n",
        "nltk.download('popular')\n",
        "nltk.download('punkt')\n",
        "nltk.download('wordnet')\n",
        "nltk.download('averaged_perceptron_tagger')"
      ],
      "metadata": {
        "colab": {
          "base_uri": "https://localhost:8080/",
          "height": 53
        },
        "id": "st4rDT3bnxL8",
        "outputId": "677014cf-9a32-4470-c381-f1fc2e3c621e"
      },
      "execution_count": null,
      "outputs": [
        {
          "output_type": "execute_result",
          "data": {
            "text/plain": [
              "\"import nltk\\nnltk.download('stopwords')\\nnltk.download('popular')\\nnltk.download('punkt')\\nnltk.download('wordnet')\\nnltk.download('averaged_perceptron_tagger')\""
            ],
            "application/vnd.google.colaboratory.intrinsic+json": {
              "type": "string"
            }
          },
          "metadata": {},
          "execution_count": 11
        }
      ]
    },
    {
      "cell_type": "code",
      "source": [
        "#Importing required libraries\n",
        "\n",
        "import pprint\n",
        "import itertools\n",
        "import re\n",
        "import pke\n",
        "import string\n",
        "import requests\n",
        "import random\n",
        "from nltk.corpus import stopwords\n",
        "from nltk.tokenize import sent_tokenize\n",
        "from flashtext import KeywordProcessor\n",
        "\n",
        "from pywsd.similarity import max_similarity\n",
        "from pywsd.lesk import adapted_lesk\n",
        "from pywsd.lesk import simple_lesk\n",
        "from pywsd.lesk import cosine_lesk\n",
        "from nltk.corpus import wordnet as wn\n",
        "\n"
      ],
      "metadata": {
        "colab": {
          "base_uri": "https://localhost:8080/"
        },
        "id": "ZBrGYBann5WC",
        "outputId": "8ce92903-c7b5-4fed-ca39-86bd02fb6716"
      },
      "execution_count": null,
      "outputs": [
        {
          "output_type": "stream",
          "name": "stderr",
          "text": [
            "Warming up PyWSD (takes ~10 secs)... took 4.881949424743652 secs.\n"
          ]
        }
      ]
    },
    {
      "cell_type": "code",
      "source": [
        "#Input Text\n",
        "\n",
        "text = \"\"\"Gravity (from Latin gravitas, meaning 'weight'), or gravitation, is a natural phenomenon by which all\n",
        "          things with mass or energy—including planets, stars, galaxies, and even light—are brought toward (or gravitate toward)\n",
        "          one another. On Earth, gravity gives weight to physical objects, and the Moon's gravity causes the ocean tides.\n",
        "          The gravitational attraction of the original gaseous matter present in the Universe caused it to begin coalescing\n",
        "          and forming stars and caused the stars to group together into galaxies, so gravity is responsible for many of\n",
        "          the large-scale structures in the Universe. Gravity has an infinite range, although its effects become increasingly\n",
        "          weaker as objects get further away.\n",
        "          \"\"\""
      ],
      "metadata": {
        "id": "ycXx98H8jrI3"
      },
      "execution_count": null,
      "outputs": []
    },
    {
      "cell_type": "code",
      "source": [
        "# Function to extract nouns using the MultipartiteRank algorithm\n",
        "\n",
        "def get_nouns_multipartite(text):\n",
        "    out = []\n",
        "    extractor = pke.unsupervised.MultipartiteRank()\n",
        "    extractor.load_document(input=text)\n",
        "    pos = {'PROPN'}\n",
        "    stoplist = list(string.punctuation)\n",
        "    stoplist += ['-lrb-', '-rrb-', '-lcb-', '-rcb-', '-lsb-', '-rsb-']\n",
        "    stoplist += stopwords.words('english')\n",
        "\n",
        "    extractor.candidate_selection(pos=pos)\n",
        "\n",
        "    extractor.candidate_weighting(alpha=1.1,\n",
        "                                  threshold=0.75,\n",
        "                                  method='average')\n",
        "    keyphrases = extractor.get_n_best(n=20)\n",
        "    for key in keyphrases:\n",
        "        out.append(key[0])\n",
        "    return out\n",
        "\n",
        "keywords = get_nouns_multipartite(text)\n",
        "print(keywords)\n",
        "filtered_keys = []\n",
        "for keyword in keywords:\n",
        "    if keyword.lower() in text.lower():\n",
        "        filtered_keys.append(keyword)\n",
        "\n",
        "print(filtered_keys)"
      ],
      "metadata": {
        "colab": {
          "base_uri": "https://localhost:8080/"
        },
        "id": "WjqDr5RwiTnh",
        "outputId": "774575dd-c216-4dd2-e946-ab40870e2eb9"
      },
      "execution_count": null,
      "outputs": [
        {
          "output_type": "stream",
          "name": "stdout",
          "text": [
            "['moon', 'earth', 'universe', 'gravity']\n",
            "['moon', 'earth', 'universe', 'gravity']\n"
          ]
        }
      ]
    },
    {
      "cell_type": "code",
      "source": [
        "# Function to tokenize text into sentences\n",
        "\n",
        "def tokenize_sentences(text):\n",
        "    sentences = [sent_tokenize(text)]\n",
        "    sentences = [y for x in sentences for y in x]\n",
        "    sentences = [sentence.strip() for sentence in sentences if len(sentence) > 20]\n",
        "    return sentences"
      ],
      "metadata": {
        "id": "tpUe3b4wihJT"
      },
      "execution_count": null,
      "outputs": []
    },
    {
      "cell_type": "code",
      "source": [
        "# Function to map keywords to sentences containing them\n",
        "\n",
        "def get_sentences_for_keyword(keywords, sentences):\n",
        "    keyword_processor = KeywordProcessor()\n",
        "    keyword_sentences = {}\n",
        "    for word in keywords:\n",
        "        keyword_sentences[word] = []\n",
        "        keyword_processor.add_keyword(word)\n",
        "    for sentence in sentences:\n",
        "        keywords_found = keyword_processor.extract_keywords(sentence)\n",
        "        for key in keywords_found:\n",
        "            keyword_sentences[key].append(sentence)\n",
        "    for key in keyword_sentences.keys():\n",
        "        values = keyword_sentences[key]\n",
        "        values = sorted(values, key=len, reverse=True)\n",
        "        keyword_sentences[key] = values\n",
        "    return keyword_sentences\n",
        "sentences = tokenize_sentences(text)\n",
        "keyword_sentence_mapping = get_sentences_for_keyword(filtered_keys, sentences)\n",
        "\n",
        "print (keyword_sentence_mapping)"
      ],
      "metadata": {
        "colab": {
          "base_uri": "https://localhost:8080/"
        },
        "id": "a2_gqiPjq8Vk",
        "outputId": "57fba40f-1ca9-42b1-cb2b-78afe9ed74b1"
      },
      "execution_count": null,
      "outputs": [
        {
          "output_type": "stream",
          "name": "stdout",
          "text": [
            "{'moon': [\"On Earth, gravity gives weight to physical objects, and the Moon's gravity causes the ocean tides.\"], 'earth': [\"On Earth, gravity gives weight to physical objects, and the Moon's gravity causes the ocean tides.\"], 'universe': ['The gravitational attraction of the original gaseous matter present in the Universe caused it to begin coalescing \\n          and forming stars and caused the stars to group together into galaxies, so gravity is responsible for many of \\n          the large-scale structures in the Universe.', 'The gravitational attraction of the original gaseous matter present in the Universe caused it to begin coalescing \\n          and forming stars and caused the stars to group together into galaxies, so gravity is responsible for many of \\n          the large-scale structures in the Universe.'], 'gravity': ['The gravitational attraction of the original gaseous matter present in the Universe caused it to begin coalescing \\n          and forming stars and caused the stars to group together into galaxies, so gravity is responsible for many of \\n          the large-scale structures in the Universe.', \"Gravity (from Latin gravitas, meaning 'weight'), or gravitation, is a natural phenomenon by which all \\n          things with mass or energy—including planets, stars, galaxies, and even light—are brought toward (or gravitate toward) \\n          one another.\", 'Gravity has an infinite range, although its effects become increasingly \\n          weaker as objects get further away', \"On Earth, gravity gives weight to physical objects, and the Moon's gravity causes the ocean tides.\", \"On Earth, gravity gives weight to physical objects, and the Moon's gravity causes the ocean tides.\"]}\n"
          ]
        }
      ]
    },
    {
      "cell_type": "code",
      "source": [
        "# Function to retrieve distractors from WordNet based on a given synset and word\n",
        "\n",
        "def get_distractors_wordnet(syn,word):\n",
        "    distractors=[]\n",
        "    word= word.lower()\n",
        "    orig_word = word\n",
        "    if len(word.split())>0:\n",
        "        word = word.replace(\" \",\"_\")\n",
        "    hypernym = syn.hypernyms()\n",
        "    if len(hypernym) == 0:\n",
        "        return distractors\n",
        "    for item in hypernym[0].hyponyms():\n",
        "        name = item.lemmas()[0].name()\n",
        "        if name == orig_word:\n",
        "            continue\n",
        "        name = name.replace(\"_\",\" \")\n",
        "        name = \" \".join(w.capitalize() for w in name.split())\n",
        "        if name is not None and name not in distractors:\n",
        "            distractors.append(name)\n",
        "    return distractors"
      ],
      "metadata": {
        "id": "NEkGziPkihMr"
      },
      "execution_count": null,
      "outputs": []
    },
    {
      "cell_type": "code",
      "source": [
        "# Function to get the most appropriate word sense for a given word in a sentence\n",
        "def get_wordsense(sent,word):\n",
        "    word= word.lower()\n",
        "\n",
        "    if len(word.split())>0:\n",
        "        word = word.replace(\" \",\"_\")\n",
        "\n",
        "\n",
        "    synsets = wn.synsets(word,'n')\n",
        "    if synsets:\n",
        "        wup = max_similarity(sent, word, 'wup', pos='n')\n",
        "        adapted_lesk_output =  adapted_lesk(sent, word, pos='n')\n",
        "        lowest_index = min (synsets.index(wup),synsets.index(adapted_lesk_output))\n",
        "        return synsets[lowest_index]\n",
        "    else:\n",
        "        return None"
      ],
      "metadata": {
        "id": "k_Y5el9crS1k"
      },
      "execution_count": null,
      "outputs": []
    },
    {
      "cell_type": "code",
      "source": [
        "# Function to retrieve distractors from ConceptNet\n",
        "# Distractors from http://conceptnet.io/\n",
        "\n",
        "def get_distractors_conceptnet(word):\n",
        "    word = word.lower()\n",
        "    original_word= word\n",
        "    if (len(word.split())>0):\n",
        "        word = word.replace(\" \",\"_\")\n",
        "    distractor_list = []\n",
        "    url = \"http://api.conceptnet.io/query?node=/c/en/%s/n&rel=/r/PartOf&start=/c/en/%s&limit=5\"%(word,word)\n",
        "    obj = requests.get(url).json()\n",
        "\n",
        "    for edge in obj['edges']:\n",
        "        link = edge['end']['term']\n",
        "\n",
        "        url2 = \"http://api.conceptnet.io/query?node=%s&rel=/r/PartOf&end=%s&limit=10\"%(link,link)\n",
        "        obj2 = requests.get(url2).json()\n",
        "        for edge in obj2['edges']:\n",
        "            word2 = edge['start']['label']\n",
        "            if word2 not in distractor_list and original_word.lower() not in word2.lower():\n",
        "                distractor_list.append(word2)\n",
        "\n",
        "    return distractor_list\n",
        "\n",
        "key_distractor_list = {}\n",
        "\n",
        "for keyword in keyword_sentence_mapping:\n",
        "    wordsense = get_wordsense(keyword_sentence_mapping[keyword][0],keyword)\n",
        "    if wordsense:\n",
        "        distractors = get_distractors_wordnet(wordsense,keyword)\n",
        "        if len(distractors) ==0:\n",
        "            distractors = get_distractors_conceptnet(keyword)\n",
        "        if len(distractors) != 0:\n",
        "            key_distractor_list[keyword] = distractors\n",
        "    else:\n",
        "\n",
        "        distractors = get_distractors_conceptnet(keyword)\n",
        "        if len(distractors) != 0:\n",
        "            key_distractor_list[keyword] = distractors\n",
        "\n",
        "index = 1\n",
        "for each in key_distractor_list:\n",
        "    sentence = keyword_sentence_mapping[each][0]\n",
        "    pattern = re.compile(each, re.IGNORECASE)\n",
        "    output = pattern.sub( \" _______ \", sentence)\n",
        "    print (\"%s)\"%(index),output)\n",
        "    choices = [each.capitalize()] + key_distractor_list[each]\n",
        "    top4choices = choices[:4]\n",
        "    random.shuffle(top4choices)\n",
        "    optionchoices = ['a','b','c','d']\n",
        "    for idx,choice in enumerate(top4choices):\n",
        "        print (\"\\t\",optionchoices[idx],\")\",\" \",choice)\n",
        "    print (\"\\nMore options: \", choices[4:20],\"\\n\\n\")\n",
        "    index = index + 1"
      ],
      "metadata": {
        "colab": {
          "base_uri": "https://localhost:8080/"
        },
        "id": "qdK3FSpiriUc",
        "outputId": "8a06d665-3353-49a3-aeea-03c88e4e86c2"
      },
      "execution_count": null,
      "outputs": [
        {
          "output_type": "stream",
          "name": "stdout",
          "text": [
            "1) On Earth, gravity gives weight to physical objects, and the  _______ 's gravity causes the ocean tides.\n",
            "\t a )   Catch\n",
            "\t b )   Commemorative\n",
            "\t c )   Charm\n",
            "\t d )   Moon\n",
            "\n",
            "More options:  ['Curio', 'Discard', 'Draw', 'Film', 'Finding', 'Floater', 'Fomite', 'Geological Formation', 'Growth', 'Hail', 'Head', 'Hoodoo', 'Ice', 'Je Ne Sais Quoi', 'Keepsake', 'Land'] \n",
            "\n",
            "\n",
            "2) On  _______ , gravity gives weight to physical objects, and the Moon's gravity causes the ocean tides.\n",
            "\t a )   Commemorative\n",
            "\t b )   Catch\n",
            "\t c )   Earth\n",
            "\t d )   Charm\n",
            "\n",
            "More options:  ['Curio', 'Discard', 'Draw', 'Film', 'Finding', 'Floater', 'Fomite', 'Geological Formation', 'Growth', 'Hail', 'Head', 'Hoodoo', 'Ice', 'Je Ne Sais Quoi', 'Keepsake', 'Land'] \n",
            "\n",
            "\n",
            "3) The gravitational attraction of the original gaseous matter present in the  _______  caused it to begin coalescing \n",
            "          and forming stars and caused the stars to group together into galaxies, so gravity is responsible for many of \n",
            "          the large-scale structures in the  _______ .\n",
            "\t a )   Body\n",
            "\t b )   Black Body\n",
            "\t c )   Universe\n",
            "\t d )   Asterism\n",
            "\n",
            "More options:  ['Carpet', 'Celestial Body', 'Cocoon', 'Consolidation', 'Constellation', 'Covering', 'Extraterrestrial Object', 'Mechanism', 'Nest', 'Plant Part', 'Radiator', 'Rock', 'Sample', 'Tangle'] \n",
            "\n",
            "\n",
            "4) The gravitational attraction of the original gaseous matter present in the Universe caused it to begin coalescing \n",
            "          and forming stars and caused the stars to group together into galaxies, so  _______  is responsible for many of \n",
            "          the large-scale structures in the Universe.\n",
            "\t a )   Affinity\n",
            "\t b )   Magnetism\n",
            "\t c )   Chemical Bond\n",
            "\t d )   Gravity\n",
            "\n",
            "More options:  [\"Van Der Waal's Forces\"] \n",
            "\n",
            "\n"
          ]
        }
      ]
    },
    {
      "cell_type": "markdown",
      "source": [
        "# 👉**Another Approches -**\n",
        "\n",
        "## **We can use Pre-trained model for this task like -**\n",
        "\n",
        "1] BERT\n",
        "\n",
        "2] T5 - Text-to-text transfer transformer\n",
        "\n",
        "3] GPT - Generative Pre-trained Transformer\n",
        "\n",
        "4] Transformer-XL\n",
        "\n",
        "5] Rule-Based Systems with NLP Techniques"
      ],
      "metadata": {
        "id": "MUoavc_hs5zi"
      }
    }
  ]
}